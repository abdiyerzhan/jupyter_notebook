{
 "cells": [
  {
   "cell_type": "markdown",
   "id": "44cc179e-3fe7-47ed-baec-f4a390a64f65",
   "metadata": {},
   "source": [
    "## ECommerce"
   ]
  },
  {
   "cell_type": "markdown",
   "id": "c50f39a6-7dcc-4853-a4a3-c38d3b68e0b5",
   "metadata": {},
   "source": [
    "Перевод статьи https://medium.com/@dniggl/exploring-e-commerce-transactions-with-python-64d4b24926f\n",
    "по анализу электронной коммерции"
   ]
  },
  {
   "cell_type": "code",
   "execution_count": 71,
   "id": "ab3454ff-9983-452a-9da9-2ff61661e665",
   "metadata": {},
   "outputs": [],
   "source": [
    "#!pip install -U deep_translator\n",
    "# default return type is a list"
   ]
  },
  {
   "cell_type": "code",
   "execution_count": 72,
   "id": "676d5a8c-eca0-43e6-bc12-00042544ca69",
   "metadata": {},
   "outputs": [],
   "source": [
    "#choose your language\n",
    "lang = 'kk'"
   ]
  },
  {
   "cell_type": "code",
   "execution_count": 73,
   "id": "f2002f89-6de0-4112-937d-23080250276e",
   "metadata": {},
   "outputs": [
    {
     "data": {
      "text/plain": [
       "'support translate languages '"
      ]
     },
     "metadata": {},
     "output_type": "display_data"
    },
    {
     "data": {
      "text/plain": [
       "{'afrikaans': 'af',\n",
       " 'albanian': 'sq',\n",
       " 'amharic': 'am',\n",
       " 'arabic': 'ar',\n",
       " 'armenian': 'hy',\n",
       " 'azerbaijani': 'az',\n",
       " 'basque': 'eu',\n",
       " 'belarusian': 'be',\n",
       " 'bengali': 'bn',\n",
       " 'bosnian': 'bs',\n",
       " 'bulgarian': 'bg',\n",
       " 'catalan': 'ca',\n",
       " 'cebuano': 'ceb',\n",
       " 'chichewa': 'ny',\n",
       " 'chinese': 'zh',\n",
       " 'chinese (simplified)': 'zh-cn',\n",
       " 'chinese (traditional)': 'zh-tw',\n",
       " 'corsican': 'co',\n",
       " 'croatian': 'hr',\n",
       " 'czech': 'cs',\n",
       " 'danish': 'da',\n",
       " 'dutch': 'nl',\n",
       " 'english': 'en',\n",
       " 'esperanto': 'eo',\n",
       " 'estonian': 'et',\n",
       " 'filipino': 'tl',\n",
       " 'finnish': 'fi',\n",
       " 'french': 'fr',\n",
       " 'frisian': 'fy',\n",
       " 'galician': 'gl',\n",
       " 'georgian': 'ka',\n",
       " 'german': 'de',\n",
       " 'greek': 'el',\n",
       " 'gujarati': 'gu',\n",
       " 'haitian creole': 'ht',\n",
       " 'hausa': 'ha',\n",
       " 'hawaiian': 'haw',\n",
       " 'hebrew': 'iw',\n",
       " 'hindi': 'hi',\n",
       " 'hmong': 'hmn',\n",
       " 'hungarian': 'hu',\n",
       " 'icelandic': 'is',\n",
       " 'igbo': 'ig',\n",
       " 'indonesian': 'id',\n",
       " 'irish': 'ga',\n",
       " 'italian': 'it',\n",
       " 'japanese': 'ja',\n",
       " 'javanese': 'jw',\n",
       " 'kannada': 'kn',\n",
       " 'kazakh': 'kk',\n",
       " 'khmer': 'km',\n",
       " 'korean': 'ko',\n",
       " 'kurdish (kurmanji)': 'ku',\n",
       " 'kyrgyz': 'ky',\n",
       " 'lao': 'lo',\n",
       " 'latin': 'la',\n",
       " 'latvian': 'lv',\n",
       " 'lithuanian': 'lt',\n",
       " 'luxembourgish': 'lb',\n",
       " 'macedonian': 'mk',\n",
       " 'malagasy': 'mg',\n",
       " 'malay': 'ms',\n",
       " 'malayalam': 'ml',\n",
       " 'maltese': 'mt',\n",
       " 'maori': 'mi',\n",
       " 'marathi': 'mr',\n",
       " 'mongolian': 'mn',\n",
       " 'myanmar (burmese)': 'my',\n",
       " 'nepali': 'ne',\n",
       " 'norwegian': 'no',\n",
       " 'pashto': 'ps',\n",
       " 'persian': 'fa',\n",
       " 'polish': 'pl',\n",
       " 'portuguese': 'pt',\n",
       " 'punjabi': 'pa',\n",
       " 'romanian': 'ro',\n",
       " 'russian': 'ru',\n",
       " 'samoan': 'sm',\n",
       " 'scots gaelic': 'gd',\n",
       " 'serbian': 'sr',\n",
       " 'sesotho': 'st',\n",
       " 'shona': 'sn',\n",
       " 'sindhi': 'sd',\n",
       " 'sinhala': 'si',\n",
       " 'slovak': 'sk',\n",
       " 'slovenian': 'sl',\n",
       " 'somali': 'so',\n",
       " 'spanish': 'es',\n",
       " 'sundanese': 'su',\n",
       " 'swahili': 'sw',\n",
       " 'swedish': 'sv',\n",
       " 'tajik': 'tg',\n",
       " 'tamil': 'ta',\n",
       " 'telugu': 'te',\n",
       " 'thai': 'th',\n",
       " 'turkish': 'tr',\n",
       " 'ukrainian': 'uk',\n",
       " 'urdu': 'ur',\n",
       " 'uzbek': 'uz',\n",
       " 'vietnamese': 'vi',\n",
       " 'welsh': 'cy',\n",
       " 'xhosa': 'xh',\n",
       " 'yiddish': 'yi',\n",
       " 'yoruba': 'yo',\n",
       " 'zulu': 'zu',\n",
       " 'Filipino': 'fil',\n",
       " 'Hebrew': 'he'}"
      ]
     },
     "metadata": {},
     "output_type": "display_data"
    }
   ],
   "source": [
    "from deep_translator import GoogleTranslator\n",
    "#langs_list = GoogleTranslator.get_supported_languages()  # output: [arabic, french, english etc...]\n",
    "# alternatively, you can the dictionary containing languages mapped to their abbreviation\n",
    "langs_dict = GoogleTranslator.get_supported_languages(as_dict=True)  # output: {arabic: ar, french: fr, english:en etc...}\n",
    "#display(langs_list)\n",
    "display('support translate languages ', langs_dict)"
   ]
  },
  {
   "cell_type": "code",
   "execution_count": 74,
   "id": "fa293b36-70dd-47f1-a8a2-276220bf6082",
   "metadata": {},
   "outputs": [],
   "source": [
    "#translate text\n",
    "def audaru(text):\n",
    "    return GoogleTranslator(source='auto', target=lang).translate(text)\n"
   ]
  },
  {
   "cell_type": "code",
   "execution_count": 75,
   "id": "809506b5-4f03-4b41-ba3a-38245ebf0ae0",
   "metadata": {},
   "outputs": [
    {
     "data": {
      "text/plain": [
       "'Электрондық коммерция - бұл интернет арқылы өнімдерді немесе қызметтерді сатып алу және сату. Соңғы бірнеше жылда электрондық коммерция экспоненциалды түрде өсті. 1990 жылдардың ортасында Amazon және Alibaba сияқты электрондық коммерция алпауыттарының өсуі бөлшек сауда саласының келбетін өзгертті. Олар негізінен ғаламдық интернетке енуді және қаржы жүйесін цифрландыруды капиталдандырды, бұл көптеген кірпіштен жасалған бизнес түрлерінің сатылымының төмендеуіне ықпал етті. Дүние жүзінде Интернетке қол жеткізу және оны қабылдау тез өсіп келе жатқандықтан, цифрлық сатып алушылардың саны жыл сайын артып келеді. 2020 жылы екі миллиардтан астам адам тауарларды немесе қызметтерді онлайн сатып алды және сол жылы электронды бөлшек сауда бүкіл әлем бойынша 4,2 триллион АҚШ долларынан асты.'"
      ]
     },
     "metadata": {},
     "output_type": "display_data"
    }
   ],
   "source": [
    "tmp ='E-commerce is the buying and selling of products or services via the internet. E-commerce has grown exponentially in the last few years. The rise of ecommerce giants like Amazon and Alibaba in the mid-1990s changed the face of the retail industry. They largely capitalized on the global internet penetration and digitalization of the financial system which contributed to the decline in sales for many brick-and-mortar types of businesses. As internet access and adoption are rapidly increasing worldwide, the number of digital buyers keeps increasing every year. In 2020, over two billion people purchased goods or services online, and during the same year, e-retail sales surpassed 4.2 trillion U.S. dollars worldwide.'\n",
    "display(audaru(tmp))"
   ]
  },
  {
   "cell_type": "code",
   "execution_count": 76,
   "id": "e041523a-99ef-4704-a484-cd6faefedab0",
   "metadata": {},
   "outputs": [
    {
     "data": {
      "text/plain": [
       "'Customer Analytics олардан жиналған деректерден тұтынушылар туралы әрекетке болатын түсініктерді жасау процесі ретінде анықталады. Жеке тұлға электрондық коммерция платформасына кірген кезде олардың әрекеттері сайтқа кірген, өнімдерді іздеген, өнімдерді шолған, өнімді сатып алған және сайттан шыққан сәттен бастап бақыланады. Тұтынушыны білу қажеттілігі маңызды болғандықтан, жасалған әрбір әрекет тұтынушы профилі үшін әлеуетті пайдалы деректер ретінде жазылуы және сақталуы керек.'"
      ]
     },
     "metadata": {},
     "output_type": "display_data"
    }
   ],
   "source": [
    "tmp ='Customer Analytics is defined as the process of generating actionable insights about the customers from the data that is collected from them. When an individual accesses an e-commerce platform, their activities are tracked from the time they enter the site, search for products, browse the products, purchase a product and leave the site. Because of the importance of needing to know the customer, every action taken must be recorded and stored as potential useful data for the customer’s profile.'\n",
    "display(audaru(tmp))"
   ]
  },
  {
   "cell_type": "code",
   "execution_count": 77,
   "id": "6e73e2d6-0995-47ab-b0fc-a636cf9d808e",
   "metadata": {},
   "outputs": [
    {
     "data": {
      "text/plain": [
       "'Customer Analytics тұтынушының мінез-құлқын жақсырақ түсінуге көмектеседі және тұтынушыларға өзгерту қажет болғанда компанияларға бизнес стратегияларын өзгертуге мүмкіндік береді. Ол сондай-ақ тұтынушыларды алудың және ұстаудың қандай арналары жұмыс істейтінін және қандай арналар жұмыс істемейтінін талдау құралын ұсынады.'"
      ]
     },
     "metadata": {},
     "output_type": "display_data"
    }
   ],
   "source": [
    "tmp ='Customer Analytics helps to better understand the customer’s behavior and allows companies to change business strategies when the customers needs change. It also provides a means to analyze which channels of acquisition and retention of customers are working and which channels are not working.'\n",
    "display(audaru(tmp))"
   ]
  },
  {
   "cell_type": "code",
   "execution_count": 78,
   "id": "29e29e0f-041c-4626-ba74-5564f46f4d08",
   "metadata": {},
   "outputs": [
    {
     "data": {
      "text/plain": [
       "'Тұтынушының аналитикалық платформасын құру үшін электрондық коммерция компаниялары өз тұтынушыларының негізгі мүмкіндіктеріне назар аударуы керек. Бұл негізгі мүмкіндіктердің кейбірі мыналарды қамтиды:'"
      ]
     },
     "metadata": {},
     "output_type": "display_data"
    }
   ],
   "source": [
    "tmp = 'In order to build a customer analytics platform, e-commerce companies need to focus on key features about their customers. Some of these key features include the following:'\n",
    "display(audaru(tmp))"
   ]
  },
  {
   "cell_type": "code",
   "execution_count": 79,
   "id": "075a8906-b743-498c-842d-e7ca1772633a",
   "metadata": {},
   "outputs": [
    {
     "data": {
      "text/plain": [
       "'Тұтынушы профилін жасау және топтау: тұтынушыларды олардың қалаулары, сатып алу тарихы және шолу үлгілері негізінде топтастыру арқылы жеке профиль құруға болады. Бұл профильді мақсатты аудиторияны құру және әр топ үшін ең жақсы жұмыс істейтін өнімдерді жекелендіру үшін пайдалануға болады.'"
      ]
     },
     "metadata": {},
     "output_type": "display_data"
    }
   ],
   "source": [
    "tmp = 'Customer profiling and grouping: You can build a personal profile by grouping customers together based on their preferences, purchase history and browsing patterns. This profiling can be used to create target audiences and personalize products that will work best for each group.'\n",
    "display(audaru(tmp))"
   ]
  },
  {
   "cell_type": "code",
   "execution_count": 80,
   "id": "643729e6-5839-4a0b-9b20-c1263f04ba86",
   "metadata": {},
   "outputs": [
    {
     "data": {
      "text/plain": [
       "'Құнды болжау: бұл тұтынушының қарым-қатынасы кезінде бизнеске беретін болжамды жалпы кірісі. Бұл бағалау ерте транзакция үлгілері және транзакциялардың жиілігі мен көлемі сияқты факторларды пайдалану арқылы жасалады. Құнды болжау бизнес үшін ең көп құндылықты алу үшін ресурстарды қандай тұтынушыларға салу керектігін жоспарлауға көмектеседі.'"
      ]
     },
     "metadata": {},
     "output_type": "display_data"
    }
   ],
   "source": [
    "tmp = ' Value Prediction: This is the estimated total revenue that a customer will provide to the business during their relationship. This estimation is made by using factors like early transaction patterns and frequency and volume of transactions. The value prediction helps in planning what kind of customers to invest resources in to get the most value for the business.'\n",
    "display(audaru(tmp))"
   ]
  },
  {
   "cell_type": "code",
   "execution_count": 81,
   "id": "53c90baa-0452-43e8-b328-29ad0d6e7ce1",
   "metadata": {},
   "outputs": [
    {
     "data": {
      "text/plain": [
       "'Сезімдерді талдау: Бұл тұтынушылар сатып алған өнімдер үшін білдірген нақты сөздердің немесе сөйлемдердің артындағы эмоцияларды табу процесі. Сезім оң, теріс немесе бейтарап болуы мүмкін. Сезімдерді тұтынушылардың шағымдарына жауап беру және тұтынушыларға қызмет көрсетуді жақсарту үшін пайдалануға болады.'"
      ]
     },
     "metadata": {},
     "output_type": "display_data"
    }
   ],
   "source": [
    "tmp = 'Sentiment Analysis: This is the process of finding the emotions behind specific words or sentences expressed by customers for products they have purchased. Sentiments can be positive, negative, or neutral. Sentiments can be used to respond to customer complaints and improve customer service.'\n",
    "display(audaru(tmp))"
   ]
  },
  {
   "cell_type": "code",
   "execution_count": 82,
   "id": "9410d354-19c5-4dcd-9131-6fb42bc10820",
   "metadata": {},
   "outputs": [
    {
     "data": {
      "text/plain": [
       "'Шығару талдауы: бұл тұтынушының өнімді/қызметті сатып алуы немесе өнімді/қызметті сатып алмау ықтималдығын талдау процесі. Бұл анықтау тұтынушылардың платформадағы сатып алу әрекеттеріне негізделген. Шығарылу көрсеткішінің жақсаруы бизнестің кірісіне айтарлықтай әсер етуі мүмкін.'"
      ]
     },
     "metadata": {},
     "output_type": "display_data"
    }
   ],
   "source": [
    "tmp=' Churn Analysis: This is the process of analyzing the likelihood of when a customer will purchase a product / service or will not purchase a product / service. This determination is based on the customers prior purchase activities in the platform. An improvement in the churn rate can have a significant impact on revenue for the business.'\n",
    "display(audaru(tmp))"
   ]
  },
  {
   "cell_type": "code",
   "execution_count": 83,
   "id": "ff6190f1-64ef-4bd1-af3f-25009899207c",
   "metadata": {},
   "outputs": [
    {
     "data": {
      "text/plain": [
       "'Осы мақаланың қалған бөлігі электрондық коммерция транзакцияларын зерттейтін және талдайтын және нәтижелерді қорытындылайтын бағдарламаны ұсынады. Келесі қадамдар Python арқылы орындалады.'"
      ]
     },
     "metadata": {},
     "output_type": "display_data"
    }
   ],
   "source": [
    "tmp = 'The remainder of this article will present a program that will explore and analyze ecommerce transactions and summarize the findings. The following steps will be performed using Python.'\n",
    "display(audaru(tmp))"
   ]
  },
  {
   "cell_type": "code",
   "execution_count": 84,
   "id": "c4d797c8-02e5-4fc2-b2d3-3bcd756efce4",
   "metadata": {},
   "outputs": [
    {
     "name": "stdout",
     "output_type": "stream",
     "text": [
      "1. Қажетті бағдарламалық құрал кітапханаларын импорттаңыз.\n",
      "\n",
      "2. Деректер жиынына деректер фрейміне қатынасыңыз және импорттаңыз.\n",
      "\n",
      "3. Деректерді талдаңыз.\n",
      "\n",
      "4. Деректерді тазалаңыз.\n",
      "\n",
      "5. Деректерді визуализациялаңыз.\n",
      "\n",
      "6. Бақылау нәтижелерін хабарлау.\n"
     ]
    }
   ],
   "source": [
    "tmp = \"\"\"1. Import the required software libraries.\n",
    "\n",
    "2. Access and import the dataset into a dataframe.\n",
    "\n",
    "3. Analyze the data.\n",
    "\n",
    "4. Clean the data.\n",
    "\n",
    "5. Visualize the data.\n",
    "\n",
    "6. Report findings from observations.\"\"\"\n",
    "print(audaru(tmp))"
   ]
  },
  {
   "cell_type": "code",
   "execution_count": 85,
   "id": "1e71c25e-e85c-4638-9e67-4d6da3715e68",
   "metadata": {},
   "outputs": [
    {
     "data": {
      "text/plain": [
       "'Бұл бағдарламаның мақсаты электрондық коммерцияны сату транзакцияларын зерттеу және талдау және қорытындыларды қорытындылау болып табылады.'"
      ]
     },
     "metadata": {},
     "output_type": "display_data"
    }
   ],
   "source": [
    "tmp = 'The objective of this program is to explore and analyze ecommerce sales transactions and to summarize the findings.'\n",
    "display(audaru(tmp))"
   ]
  },
  {
   "cell_type": "code",
   "execution_count": 86,
   "id": "7aeeaabf-a587-44c7-832a-9d338eb8fae1",
   "metadata": {},
   "outputs": [
    {
     "data": {
      "text/plain": [
       "'Қажетті бағдарламалық құрал кітапханаларын импорттаңыз'"
      ]
     },
     "metadata": {},
     "output_type": "display_data"
    }
   ],
   "source": [
    "tmp = 'Import the required software libraries'\n",
    "display(audaru(tmp))"
   ]
  },
  {
   "cell_type": "code",
   "execution_count": 87,
   "id": "d2527983-be34-47a0-8519-382dc00dfa13",
   "metadata": {},
   "outputs": [],
   "source": [
    "# Import the libraries.\n",
    "import pandas as pd\n",
    "import matplotlib.pyplot as plt\n",
    "import matplotlib.gridspec as gridspec\n",
    "import seaborn as sns\n",
    "import numpy as np\n"
   ]
  },
  {
   "cell_type": "code",
   "execution_count": 88,
   "id": "a11a0638-5cc6-464b-8e2c-ba7a39bcc2f4",
   "metadata": {},
   "outputs": [
    {
     "data": {
      "text/plain": [
       "'Деректер жинағына кіру және импорттау'"
      ]
     },
     "metadata": {},
     "output_type": "display_data"
    }
   ],
   "source": [
    "tmp = 'Access and Import the Data Set'\n",
    "display(audaru(tmp))"
   ]
  },
  {
   "cell_type": "code",
   "execution_count": 89,
   "id": "d69a1298-dd4f-4a49-8050-d4a7f6fd100a",
   "metadata": {},
   "outputs": [],
   "source": [
    "# Import the dataset from a website.\n",
    "data_source_url = \"https://raw.githubusercontent.com/Jotaherrer/DataAnalysis/master/e_commerce/e_commerce.csv\"\n",
    "ecommerce = pd.read_csv(data_source_url)\n"
   ]
  },
  {
   "cell_type": "code",
   "execution_count": 90,
   "id": "ca67f5b3-c412-4a94-abc1-ab09de825c87",
   "metadata": {},
   "outputs": [
    {
     "data": {
      "text/plain": [
       "'Деректердің алғашқы 5 жолын басып шығарыңыз.'"
      ]
     },
     "metadata": {},
     "output_type": "display_data"
    },
    {
     "name": "stdout",
     "output_type": "stream",
     "text": [
      "-------------------------------\n",
      "<class 'pandas.core.frame.DataFrame'>\n",
      "RangeIndex: 550068 entries, 0 to 550067\n",
      "Data columns (total 12 columns):\n",
      " #   Column                      Non-Null Count   Dtype  \n",
      "---  ------                      --------------   -----  \n",
      " 0   User_ID                     550068 non-null  int64  \n",
      " 1   Product_ID                  550068 non-null  object \n",
      " 2   Gender                      550068 non-null  object \n",
      " 3   Age                         550068 non-null  object \n",
      " 4   Occupation                  550068 non-null  int64  \n",
      " 5   City_Category               550068 non-null  object \n",
      " 6   Stay_In_Current_City_Years  550068 non-null  object \n",
      " 7   Marital_Status              550068 non-null  int64  \n",
      " 8   Product_Category_1          550068 non-null  int64  \n",
      " 9   Product_Category_2          376430 non-null  float64\n",
      " 10  Product_Category_3          166821 non-null  float64\n",
      " 11  Purchase                    550068 non-null  int64  \n",
      "dtypes: float64(2), int64(5), object(5)\n",
      "memory usage: 50.4+ MB\n",
      "None\n"
     ]
    },
    {
     "data": {
      "text/html": [
       "<div>\n",
       "<style scoped>\n",
       "    .dataframe tbody tr th:only-of-type {\n",
       "        vertical-align: middle;\n",
       "    }\n",
       "\n",
       "    .dataframe tbody tr th {\n",
       "        vertical-align: top;\n",
       "    }\n",
       "\n",
       "    .dataframe thead th {\n",
       "        text-align: right;\n",
       "    }\n",
       "</style>\n",
       "<table border=\"1\" class=\"dataframe\">\n",
       "  <thead>\n",
       "    <tr style=\"text-align: right;\">\n",
       "      <th></th>\n",
       "      <th>User_ID</th>\n",
       "      <th>Product_ID</th>\n",
       "      <th>Gender</th>\n",
       "      <th>Age</th>\n",
       "      <th>Occupation</th>\n",
       "      <th>City_Category</th>\n",
       "      <th>Stay_In_Current_City_Years</th>\n",
       "      <th>Marital_Status</th>\n",
       "      <th>Product_Category_1</th>\n",
       "      <th>Product_Category_2</th>\n",
       "      <th>Product_Category_3</th>\n",
       "      <th>Purchase</th>\n",
       "    </tr>\n",
       "  </thead>\n",
       "  <tbody>\n",
       "    <tr>\n",
       "      <th>0</th>\n",
       "      <td>1000001</td>\n",
       "      <td>P00069042</td>\n",
       "      <td>F</td>\n",
       "      <td>0-17</td>\n",
       "      <td>10</td>\n",
       "      <td>A</td>\n",
       "      <td>2</td>\n",
       "      <td>0</td>\n",
       "      <td>3</td>\n",
       "      <td>NaN</td>\n",
       "      <td>NaN</td>\n",
       "      <td>8370</td>\n",
       "    </tr>\n",
       "    <tr>\n",
       "      <th>1</th>\n",
       "      <td>1000001</td>\n",
       "      <td>P00248942</td>\n",
       "      <td>F</td>\n",
       "      <td>0-17</td>\n",
       "      <td>10</td>\n",
       "      <td>A</td>\n",
       "      <td>2</td>\n",
       "      <td>0</td>\n",
       "      <td>1</td>\n",
       "      <td>6.0</td>\n",
       "      <td>14.0</td>\n",
       "      <td>15200</td>\n",
       "    </tr>\n",
       "    <tr>\n",
       "      <th>2</th>\n",
       "      <td>1000001</td>\n",
       "      <td>P00087842</td>\n",
       "      <td>F</td>\n",
       "      <td>0-17</td>\n",
       "      <td>10</td>\n",
       "      <td>A</td>\n",
       "      <td>2</td>\n",
       "      <td>0</td>\n",
       "      <td>12</td>\n",
       "      <td>NaN</td>\n",
       "      <td>NaN</td>\n",
       "      <td>1422</td>\n",
       "    </tr>\n",
       "    <tr>\n",
       "      <th>3</th>\n",
       "      <td>1000001</td>\n",
       "      <td>P00085442</td>\n",
       "      <td>F</td>\n",
       "      <td>0-17</td>\n",
       "      <td>10</td>\n",
       "      <td>A</td>\n",
       "      <td>2</td>\n",
       "      <td>0</td>\n",
       "      <td>12</td>\n",
       "      <td>14.0</td>\n",
       "      <td>NaN</td>\n",
       "      <td>1057</td>\n",
       "    </tr>\n",
       "    <tr>\n",
       "      <th>4</th>\n",
       "      <td>1000002</td>\n",
       "      <td>P00285442</td>\n",
       "      <td>M</td>\n",
       "      <td>55+</td>\n",
       "      <td>16</td>\n",
       "      <td>C</td>\n",
       "      <td>4+</td>\n",
       "      <td>0</td>\n",
       "      <td>8</td>\n",
       "      <td>NaN</td>\n",
       "      <td>NaN</td>\n",
       "      <td>7969</td>\n",
       "    </tr>\n",
       "  </tbody>\n",
       "</table>\n",
       "</div>"
      ],
      "text/plain": [
       "   User_ID Product_ID Gender   Age  Occupation City_Category  \\\n",
       "0  1000001  P00069042      F  0-17          10             A   \n",
       "1  1000001  P00248942      F  0-17          10             A   \n",
       "2  1000001  P00087842      F  0-17          10             A   \n",
       "3  1000001  P00085442      F  0-17          10             A   \n",
       "4  1000002  P00285442      M   55+          16             C   \n",
       "\n",
       "  Stay_In_Current_City_Years  Marital_Status  Product_Category_1  \\\n",
       "0                          2               0                   3   \n",
       "1                          2               0                   1   \n",
       "2                          2               0                  12   \n",
       "3                          2               0                  12   \n",
       "4                         4+               0                   8   \n",
       "\n",
       "   Product_Category_2  Product_Category_3  Purchase  \n",
       "0                 NaN                 NaN      8370  \n",
       "1                 6.0                14.0     15200  \n",
       "2                 NaN                 NaN      1422  \n",
       "3                14.0                 NaN      1057  \n",
       "4                 NaN                 NaN      7969  "
      ]
     },
     "execution_count": 90,
     "metadata": {},
     "output_type": "execute_result"
    }
   ],
   "source": [
    "# Print the first 5 rows of data.\n",
    "display(audaru('Print the first 5 rows of data.'))\n",
    "print('-------------------------------')\n",
    "print(ecommerce.info())\n",
    "ecommerce.head(5)"
   ]
  },
  {
   "cell_type": "code",
   "execution_count": 91,
   "id": "4201cdbf-0f0b-4558-9feb-9f63407524ce",
   "metadata": {},
   "outputs": [
    {
     "name": "stdout",
     "output_type": "stream",
     "text": [
      "Электрондық коммерция деректер жинағы GitHub сайтынан алынды.\n",
      "\n",
      "Деректер айнымалылары мыналарды қамтиды:\n",
      "\n",
      "    Пайдаланушы идентификаторы — Бірегей пайдаланушы идентификаторы.\n",
      "    Product_ID — бірегей өнім идентификаторы.\n",
      "    Gender — Тұтынушының жынысы (M=er немесе F=әйел).\n",
      "    Жасы — Жас санаты (0–17, 18–25, 26–35, 36–45, 46–50, 51–55, 55+).\n",
      "    Мамандық — Санмен көрсетілген тұтынушының кәсібі.\n",
      "    City_Category — Қаланың аумақтық классификациясы.\n",
      "    Stay_In_Current_City_Years — Ағымдағы қаладағы жылдар саны.\n",
      "    Отбасылық_статус — Бойдақ немесе үйленген.\n",
      "    Өнім_санаты_1 — 1 өнім сатып алынды.\n",
      "    Өнім_санаты_2 — 2 өнім сатып алынды.\n",
      "    Product_Category_3 — 3 немесе одан да көп өнім сатып алынды.\n",
      "    Сатып алу — Сатып алудың доллар сомасы\n"
     ]
    }
   ],
   "source": [
    "tmp = \"\"\" The e-commerce data set was obtained from GitHub.\n",
    "\n",
    "Data variables include:\n",
    "\n",
    "    User ID — Unique user identifier.\n",
    "    Product_ID — Unique product identifier.\n",
    "    Gender — Gender of customer (M=male or F=female).\n",
    "    Age — Age category (0–17, 18–25, 26–35, 36–45, 46–50, 51–55, 55+).\n",
    "    Occupation — Occupation of customer expressed as a number.\n",
    "    City_Category — Area classification of city.\n",
    "    Stay_In_Current_City_Years — Number of years in current city.\n",
    "    Marital_Status — Single or married.\n",
    "    Product_Category_1 — Purchased 1 product.\n",
    "    Product_Category_2 — Purchased 2 products.\n",
    "    Product_Category_3 — Purchased 3 or more products.\n",
    "    Purchase — Dollar amount of purchase\"\"\"\n",
    "print(audaru(tmp))"
   ]
  },
  {
   "cell_type": "code",
   "execution_count": 92,
   "id": "6f717af8-e52d-4d64-8e45-c18ba0baa7e2",
   "metadata": {},
   "outputs": [
    {
     "data": {
      "text/plain": [
       "User_ID                            0\n",
       "Product_ID                         0\n",
       "Gender                             0\n",
       "Age                                0\n",
       "Occupation                         0\n",
       "City_Category                      0\n",
       "Stay_In_Current_City_Years         0\n",
       "Marital_Status                     0\n",
       "Product_Category_1                 0\n",
       "Product_Category_2            173638\n",
       "Product_Category_3            383247\n",
       "Purchase                           0\n",
       "dtype: int64"
      ]
     },
     "execution_count": 92,
     "metadata": {},
     "output_type": "execute_result"
    }
   ],
   "source": [
    "ecommerce.isnull().sum()"
   ]
  },
  {
   "cell_type": "code",
   "execution_count": 93,
   "id": "e8c530ee-d645-4fd1-8b14-f6e5bf0a9509",
   "metadata": {},
   "outputs": [
    {
     "name": "stdout",
     "output_type": "stream",
     "text": [
      "Электрондық коммерция платформаларынан және 12 бағаннан шыққан 550 068 тұтынушы транзакциясы бар. Деректер жиынында бүтін, нысан және қалқымалы мәндер бар.\n"
     ]
    }
   ],
   "source": [
    "tmp = 'There are 550,068 customer transactions originating from ecommerce platforms and 12 columns. The data set contains integer, object and float values.'\n",
    "print(audaru(tmp))"
   ]
  },
  {
   "cell_type": "code",
   "execution_count": 94,
   "id": "bfa6763a-a31a-4562-b9d9-4331edb01749",
   "metadata": {},
   "outputs": [
    {
     "name": "stdout",
     "output_type": "stream",
     "text": [
      "Product_Category_2 айнымалысында 173 638 нөлдік мәндер және Product_Category_3 айнымалысында 383 247 бос мәндер бар.\n"
     ]
    }
   ],
   "source": [
    "tmp = 'Product_Category_2 variable has 173,638 null values and Product_Category_3 variable has 383,247 null values.'\n",
    "print(audaru(tmp))"
   ]
  },
  {
   "cell_type": "code",
   "execution_count": 95,
   "id": "5e811b9c-3380-4a8b-a9e1-de0c3dbc8778",
   "metadata": {},
   "outputs": [
    {
     "name": "stdout",
     "output_type": "stream",
     "text": [
      "Деректерді тазалау\n",
      "\n",
      "Деректерді тазалау үшін нөлдік мәндерді нөлге ауыстырамыз.\n"
     ]
    }
   ],
   "source": [
    "tmp = \"\"\"Cleaning the Data\n",
    "\n",
    "We will replace the null values with zeros to clean the data.\"\"\"\n",
    "print(audaru(tmp))"
   ]
  },
  {
   "cell_type": "code",
   "execution_count": 96,
   "id": "ec6a6985-7039-49b6-9ce4-a3c4f88a48ec",
   "metadata": {},
   "outputs": [],
   "source": [
    "# Replace the null values with zero (0).\n",
    "ecommerce.fillna(0, inplace=True)"
   ]
  },
  {
   "cell_type": "code",
   "execution_count": 97,
   "id": "964f073a-61cf-471f-8ffd-e3804db5bb3a",
   "metadata": {},
   "outputs": [
    {
     "name": "stdout",
     "output_type": "stream",
     "text": [
      "Деректерді визуализациялау\n",
      "\n",
      "Dataframe әрбір тұтынушы жасаған әрбір транзакцияны қамтиды. Өнімдерге ең көп ақша жұмсайтын пайдаланушыларды анықтайық.\n"
     ]
    }
   ],
   "source": [
    "tmp = \"\"\"Visualize the Data\n",
    "\n",
    "The dataframe includes every transaction made by each customer. Let’s identify the users that spend the most money on products.\"\"\"\n",
    "print(audaru(tmp))"
   ]
  },
  {
   "cell_type": "code",
   "execution_count": 98,
   "id": "4aa81c12-9c42-4d87-bbe8-3fd418df610c",
   "metadata": {},
   "outputs": [
    {
     "data": {
      "text/html": [
       "<div>\n",
       "<style scoped>\n",
       "    .dataframe tbody tr th:only-of-type {\n",
       "        vertical-align: middle;\n",
       "    }\n",
       "\n",
       "    .dataframe tbody tr th {\n",
       "        vertical-align: top;\n",
       "    }\n",
       "\n",
       "    .dataframe thead th {\n",
       "        text-align: right;\n",
       "    }\n",
       "</style>\n",
       "<table border=\"1\" class=\"dataframe\">\n",
       "  <thead>\n",
       "    <tr style=\"text-align: right;\">\n",
       "      <th></th>\n",
       "      <th>User_ID</th>\n",
       "      <th>Occupation</th>\n",
       "      <th>Marital_Status</th>\n",
       "      <th>Product_Category_1</th>\n",
       "      <th>Product_Category_2</th>\n",
       "      <th>Product_Category_3</th>\n",
       "      <th>Purchase</th>\n",
       "    </tr>\n",
       "  </thead>\n",
       "  <tbody>\n",
       "    <tr>\n",
       "      <th>4166</th>\n",
       "      <td>1004277</td>\n",
       "      <td>15664</td>\n",
       "      <td>0</td>\n",
       "      <td>6127</td>\n",
       "      <td>5786.0</td>\n",
       "      <td>2662.0</td>\n",
       "      <td>10536909</td>\n",
       "    </tr>\n",
       "    <tr>\n",
       "      <th>1634</th>\n",
       "      <td>1001680</td>\n",
       "      <td>20520</td>\n",
       "      <td>1026</td>\n",
       "      <td>6312</td>\n",
       "      <td>6135.0</td>\n",
       "      <td>2612.0</td>\n",
       "      <td>8699596</td>\n",
       "    </tr>\n",
       "    <tr>\n",
       "      <th>2831</th>\n",
       "      <td>1002909</td>\n",
       "      <td>5026</td>\n",
       "      <td>0</td>\n",
       "      <td>4324</td>\n",
       "      <td>5080.0</td>\n",
       "      <td>2338.0</td>\n",
       "      <td>7577756</td>\n",
       "    </tr>\n",
       "    <tr>\n",
       "      <th>1885</th>\n",
       "      <td>1001941</td>\n",
       "      <td>15266</td>\n",
       "      <td>0</td>\n",
       "      <td>5302</td>\n",
       "      <td>5542.0</td>\n",
       "      <td>2674.0</td>\n",
       "      <td>6817493</td>\n",
       "    </tr>\n",
       "    <tr>\n",
       "      <th>416</th>\n",
       "      <td>1000424</td>\n",
       "      <td>11798</td>\n",
       "      <td>0</td>\n",
       "      <td>4143</td>\n",
       "      <td>4293.0</td>\n",
       "      <td>2247.0</td>\n",
       "      <td>6573609</td>\n",
       "    </tr>\n",
       "  </tbody>\n",
       "</table>\n",
       "</div>"
      ],
      "text/plain": [
       "      User_ID  Occupation  Marital_Status  Product_Category_1  \\\n",
       "4166  1004277       15664               0                6127   \n",
       "1634  1001680       20520            1026                6312   \n",
       "2831  1002909        5026               0                4324   \n",
       "1885  1001941       15266               0                5302   \n",
       "416   1000424       11798               0                4143   \n",
       "\n",
       "      Product_Category_2  Product_Category_3  Purchase  \n",
       "4166              5786.0              2662.0  10536909  \n",
       "1634              6135.0              2612.0   8699596  \n",
       "2831              5080.0              2338.0   7577756  \n",
       "1885              5542.0              2674.0   6817493  \n",
       "416               4293.0              2247.0   6573609  "
      ]
     },
     "execution_count": 98,
     "metadata": {},
     "output_type": "execute_result"
    }
   ],
   "source": [
    "# Sum the purchase amounts by user id and show the users that have  # spent the most money on products.  \n",
    "purchases = ecommerce.groupby(['User_ID']).sum().reset_index()\n",
    "purchases = purchases.sort_values('Purchase',ascending=False)\n",
    "purchases.head()"
   ]
  },
  {
   "cell_type": "code",
   "execution_count": 114,
   "id": "b988d8aa-6ec4-4412-b835-43e3775b9534",
   "metadata": {},
   "outputs": [
    {
     "data": {
      "image/png": "[encoded data removed]",
      "text/plain": [
       "<Figure size 576x360 with 1 Axes>"
      ]
     },
     "metadata": {},
     "output_type": "display_data"
    }
   ],
   "source": [
    "# Visualize the distribution of sales by gender.\n",
    "plt.figure(figsize=(8,5))\n",
    "ecommerce.Gender.value_counts().plot(kind='pie', autopct='%1.0f%%')\n",
    "plt.axis('equal')\n",
    "plt.title(audaru(\"Gender Distribution\"), fontsize='18')\n",
    "plt.show()"
   ]
  },
  {
   "cell_type": "code",
   "execution_count": 100,
   "id": "5f98aaa5-6af9-4182-b28f-8d641c44b149",
   "metadata": {},
   "outputs": [
    {
     "data": {
      "text/plain": [
       "Index(['User_ID', 'Product_ID', 'Gender', 'Age', 'Occupation', 'City_Category',\n",
       "       'Stay_In_Current_City_Years', 'Marital_Status', 'Product_Category_1',\n",
       "       'Product_Category_2', 'Product_Category_3', 'Purchase'],\n",
       "      dtype='object')"
      ]
     },
     "execution_count": 100,
     "metadata": {},
     "output_type": "execute_result"
    }
   ],
   "source": [
    "ecommerce.columns"
   ]
  },
  {
   "cell_type": "code",
   "execution_count": 115,
   "id": "ef86cc8c-980e-4fbc-8c0d-7a2eb267a174",
   "metadata": {},
   "outputs": [
    {
     "data": {
      "image/png": "[encoded data removed]",
      "text/plain": [
       "<Figure size 576x360 with 1 Axes>"
      ]
     },
     "metadata": {},
     "output_type": "display_data"
    }
   ],
   "source": [
    "# Visualize the distribution of sales by gender.\n",
    "plt.figure(figsize=(8,5))\n",
    "ecommerce.Age.value_counts().plot(kind='pie', autopct='%1.0f%%')\n",
    "plt.axis('equal')\n",
    "plt.title(audaru(\"Age Distribution\"), fontsize='18')\n",
    "plt.show()"
   ]
  },
  {
   "cell_type": "code",
   "execution_count": 102,
   "id": "c78bd37e-4299-4927-80db-cfb4d4b687db",
   "metadata": {},
   "outputs": [
    {
     "name": "stdout",
     "output_type": "stream",
     "text": [
      "Әрбір жас тобы үшін орташа сату сомасын табыңыз.\n"
     ]
    }
   ],
   "source": [
    "tmp = \"\"\"Find the average sale amount for each age group.\"\"\"\n",
    "print(audaru(tmp))"
   ]
  },
  {
   "cell_type": "code",
   "execution_count": 103,
   "id": "24b5d5da-3b0e-463a-8e9b-dcbd922fcdff",
   "metadata": {},
   "outputs": [
    {
     "data": {
      "text/html": [
       "<div>\n",
       "<style scoped>\n",
       "    .dataframe tbody tr th:only-of-type {\n",
       "        vertical-align: middle;\n",
       "    }\n",
       "\n",
       "    .dataframe tbody tr th {\n",
       "        vertical-align: top;\n",
       "    }\n",
       "\n",
       "    .dataframe thead th {\n",
       "        text-align: right;\n",
       "    }\n",
       "</style>\n",
       "<table border=\"1\" class=\"dataframe\">\n",
       "  <thead>\n",
       "    <tr style=\"text-align: right;\">\n",
       "      <th></th>\n",
       "      <th>Age</th>\n",
       "      <th>Purchase</th>\n",
       "    </tr>\n",
       "  </thead>\n",
       "  <tbody>\n",
       "    <tr>\n",
       "      <th>0</th>\n",
       "      <td>0-17</td>\n",
       "      <td>8933.464640</td>\n",
       "    </tr>\n",
       "    <tr>\n",
       "      <th>1</th>\n",
       "      <td>18-25</td>\n",
       "      <td>9169.663606</td>\n",
       "    </tr>\n",
       "    <tr>\n",
       "      <th>2</th>\n",
       "      <td>26-35</td>\n",
       "      <td>9252.690633</td>\n",
       "    </tr>\n",
       "    <tr>\n",
       "      <th>3</th>\n",
       "      <td>36-45</td>\n",
       "      <td>9331.350695</td>\n",
       "    </tr>\n",
       "    <tr>\n",
       "      <th>4</th>\n",
       "      <td>46-50</td>\n",
       "      <td>9208.625697</td>\n",
       "    </tr>\n",
       "    <tr>\n",
       "      <th>5</th>\n",
       "      <td>51-55</td>\n",
       "      <td>9534.808031</td>\n",
       "    </tr>\n",
       "    <tr>\n",
       "      <th>6</th>\n",
       "      <td>55+</td>\n",
       "      <td>9336.280459</td>\n",
       "    </tr>\n",
       "  </tbody>\n",
       "</table>\n",
       "</div>"
      ],
      "text/plain": [
       "     Age     Purchase\n",
       "0   0-17  8933.464640\n",
       "1  18-25  9169.663606\n",
       "2  26-35  9252.690633\n",
       "3  36-45  9331.350695\n",
       "4  46-50  9208.625697\n",
       "5  51-55  9534.808031\n",
       "6    55+  9336.280459"
      ]
     },
     "execution_count": 103,
     "metadata": {},
     "output_type": "execute_result"
    }
   ],
   "source": [
    "# Show the average sale amount for each age group.\n",
    "purchase_by_age = ecommerce.groupby('Age')['Purchase'].mean().reset_index()\n",
    "purchase_by_age"
   ]
  },
  {
   "cell_type": "code",
   "execution_count": 104,
   "id": "e59a026b-c330-4cc6-a28f-7df911541137",
   "metadata": {},
   "outputs": [
    {
     "name": "stdout",
     "output_type": "stream",
     "text": [
      "51-55 жас тобы өнімдерге ең көп ақша жұмсайды.\n",
      "\n",
      "Жас топтары бойынша орташа сатуды визуализациялаңыз.\n"
     ]
    }
   ],
   "source": [
    "tmp = \"\"\" The age group 51–55 spends the most amount on products.\n",
    "\n",
    "Visualize average sales by age group.\"\"\"\n",
    "print(audaru(tmp))"
   ]
  },
  {
   "cell_type": "code",
   "execution_count": 116,
   "id": "4f279614-b577-4518-9fac-cfdac312cb91",
   "metadata": {},
   "outputs": [
    {
     "data": {
      "image/png": "[encoded data removed]",
      "text/plain": [
       "<Figure size 720x288 with 1 Axes>"
      ]
     },
     "metadata": {},
     "output_type": "display_data"
    }
   ],
   "source": [
    "# Visualize the distribution of average purchase amounts for each   # age group.\n",
    "plt.figure(figsize=(10,4))\n",
    "plt.plot(purchase_by_age.Age, purchase_by_age.Purchase, color='darkblue', marker='*')\n",
    "plt.grid()\n",
    "plt.xlabel(audaru('Age Group'), fontsize=10)\n",
    "plt.ylabel(audaru('Total Purchases in Dollars'), fontsize=10)\n",
    "plt.title(audaru('Average Sales by Age Group'), fontsize=13)\n",
    "plt.show()"
   ]
  },
  {
   "cell_type": "code",
   "execution_count": 106,
   "id": "7faa809c-ca13-48cf-a848-bd35af5b1ad9",
   "metadata": {},
   "outputs": [
    {
     "name": "stdout",
     "output_type": "stream",
     "text": [
      "Сатып алуларды кәсіп бойынша елестетіңіз.\n"
     ]
    }
   ],
   "source": [
    "tmp = \"\"\" Visualize purchases by occupation.\"\"\"\n",
    "print(audaru(tmp))"
   ]
  },
  {
   "cell_type": "code",
   "execution_count": 117,
   "id": "865d883d-e7b1-418c-b552-e6e158a2f5dc",
   "metadata": {},
   "outputs": [
    {
     "data": {
      "image/png": "[encoded data removed]",
      "text/plain": [
       "<Figure size 720x432 with 1 Axes>"
      ]
     },
     "metadata": {},
     "output_type": "display_data"
    }
   ],
   "source": [
    "# Visualize purchases by occupation.\n",
    "# Group by occupation.\n",
    "occupation = ecommerce.groupby('Occupation')['Purchase'].mean().reset_index()\n",
    "\n",
    "# Plot bar chart for average purchases by occcupation.\n",
    "sns.set(style=\"white\", rc={\"lines.linewidth\": 3})\n",
    "fig, ax1 = plt.subplots(figsize=(10,6))\n",
    "sns.barplot(x=occupation['Occupation'],y=occupation['Purchase'],color='#004488',ax=ax1)\n",
    "plt.axis([-1,21,8000,10000])\n",
    "plt.title(audaru('Average Purchases by Occupation'), fontsize='14')\n",
    "plt.show()"
   ]
  },
  {
   "cell_type": "code",
   "execution_count": 118,
   "id": "f14fb370-656c-45d4-99c6-aab4974d4944",
   "metadata": {},
   "outputs": [
    {
     "data": {
      "image/png": "[encoded data removed]",
      "text/plain": [
       "<Figure size 720x432 with 1 Axes>"
      ]
     },
     "metadata": {},
     "output_type": "display_data"
    }
   ],
   "source": [
    "# Visualize purchases by occupation.\n",
    "# Group by occupation.\n",
    "occupation = ecommerce.groupby('Occupation')['Purchase'].mean().reset_index()\n",
    "\n",
    "# Plot bar chart for average purchases by occcupation.\n",
    "sns.set(style=\"white\", rc={\"lines.linewidth\": 3})\n",
    "fig, ax1 = plt.subplots(figsize=(10,6))\n",
    "sns.barplot(x=occupation['Occupation'],y=occupation['Purchase'],color='#004488',ax=ax1)\n",
    "plt.axis([-1,21,8000,10000])\n",
    "plt.title(audaru('Average Purchases by Occupation'), fontsize='14')\n",
    "plt.show()"
   ]
  },
  {
   "cell_type": "code",
   "execution_count": 109,
   "id": "e1b35196-5c57-46b5-aed8-5490e9968bf5",
   "metadata": {},
   "outputs": [
    {
     "name": "stdout",
     "output_type": "stream",
     "text": [
      "Ең көп сатылатын өнімдерді елестетіңіз.\n"
     ]
    }
   ],
   "source": [
    "tmp = \"\"\" Visualize the best selling products.\"\"\"\n",
    "print(audaru(tmp))"
   ]
  },
  {
   "cell_type": "code",
   "execution_count": 119,
   "id": "92afa329-0c64-49bb-b7b0-6bc6819d49d9",
   "metadata": {},
   "outputs": [
    {
     "data": {
      "image/png": "[encoded data removed]",
      "text/plain": [
       "<Figure size 864x504 with 1 Axes>"
      ]
     },
     "metadata": {},
     "output_type": "display_data"
    }
   ],
   "source": [
    "# Visualize the best selling products. \n",
    "# Group by product ID\n",
    "product = ecommerce.groupby('Product_ID')['Purchase'].count().reset_index()\n",
    "product.rename(columns={'Purchase':'Count'},inplace=True)\n",
    "product_sorted = product.sort_values('Count',ascending=False)\n",
    "\n",
    "# Plot the line.  \n",
    "plt.figure(figsize=(12,7))\n",
    "plt.plot(product_sorted['Product_ID'][:10], product_sorted['Count'][:10], linestyle='-', color='darkblue', marker='o')\n",
    "plt.title(audaru(\"Best-selling Products\"), fontsize='15')\n",
    "plt.xlabel(audaru('Product ID'), fontsize='15')\n",
    "plt.ylabel(audaru('Products Sold'), fontsize='15')\n",
    "plt.show()"
   ]
  },
  {
   "cell_type": "code",
   "execution_count": 111,
   "id": "1a682b8f-b422-4b8f-940f-eb3f709a48af",
   "metadata": {},
   "outputs": [
    {
     "name": "stdout",
     "output_type": "stream",
     "text": [
      "Қорытындылардың қысқаша мазмұны мыналарды қамтиды:\n"
     ]
    }
   ],
   "source": [
    "tmp = \"\"\" Summary of findings include the following:\"\"\"\n",
    "print(audaru(tmp))"
   ]
  },
  {
   "cell_type": "code",
   "execution_count": 112,
   "id": "79b5b7b2-3558-40f8-9517-506b9f7e4317",
   "metadata": {},
   "outputs": [],
   "source": [
    "tmp = \"\"\"     The largest amount spent on products by a user was $10,536,909.\n",
    "    75% of purchases were made by males and 25% of purchases were made by females.\n",
    "    Age group 26–35 made 40% of the total purchases followed by age group 36–45 who made 20% of the total purchases.\n",
    "    On average, age group 51–55 spends the most money on products followed by age group 55+.\n",
    "    On average, the occupations of the customers that spend the most money include numbers 12, 15 and 17. Unfortunately there were no translations for occupation numbers to specify the type of occupation.\n",
    "    The best selling products were P00265242, POOO25442 AND P00110742. Unfortunately there were no translations for product numbers to specify the type of product.\n",
    "\n",
    "Thanks for reading my article! If you have any questions or comments please let me know\"\"\"\n"
   ]
  },
  {
   "cell_type": "code",
   "execution_count": 113,
   "id": "d5464d8a-a0e5-4a11-a599-56976cbe1441",
   "metadata": {},
   "outputs": [
    {
     "name": "stdout",
     "output_type": "stream",
     "text": [
      "Пайдаланушы өнімдерге жұмсаған ең үлкен сома $10 536 909 болды.\n",
      "    Сатып алудың 75% ер адамдар, ал 25% әйелдер сатып алған.\n",
      "    26-35 жас тобы жалпы сатып алудың 40%-ын құрады, одан кейін 36-45 жас тобы жалпы сатып алудың 20%-ын құрады.\n",
      "    Орташа алғанда 51-55 жас тобы өнімдерге ең көп ақша жұмсайды, одан кейін 55+ жас тобы келеді.\n",
      "    Орташа алғанда, ең көп ақша жұмсайтын клиенттердің кәсіптері 12, 15 және 17 сандарын қамтиды. Өкінішке орай, кәсіп түрін көрсету үшін кәсіп нөмірлерінің аудармасы жоқ.\n",
      "    Ең көп сатылатын өнімдер P00265242, POOO25442 ЖӘНЕ P00110742 болды. Өкінішке орай, өнім түрін көрсету үшін өнім нөмірлерінің аудармалары болмады.\n",
      "\n",
      "Менің мақаламды оқығаныңыз үшін рахмет! Егер сізде сұрақтар немесе түсініктемелер болса, маған хабарлаңыз\n"
     ]
    }
   ],
   "source": [
    "print(audaru(tmp))"
   ]
  },
  {
   "cell_type": "code",
   "execution_count": null,
   "id": "c69ab7e7-a963-40f9-a450-0a6f4e03b7ee",
   "metadata": {},
   "outputs": [],
   "source": []
  }
 ],
 "metadata": {
  "kernelspec": {
   "display_name": "Python 3 (ipykernel)",
   "language": "python",
   "name": "python3"
  },
  "language_info": {
   "codemirror_mode": {
    "name": "ipython",
    "version": 3
   },
   "file_extension": ".py",
   "mimetype": "text/x-python",
   "name": "python",
   "nbconvert_exporter": "python",
   "pygments_lexer": "ipython3",
   "version": "3.8.5"
  }
 },
 "nbformat": 4,
 "nbformat_minor": 5
}
